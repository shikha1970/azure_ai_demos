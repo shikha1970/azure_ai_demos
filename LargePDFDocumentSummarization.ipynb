{
 "cells": [
  {
   "cell_type": "markdown",
   "id": "c518e120",
   "metadata": {},
   "source": [
    "## Get Access Token for Service Principal"
   ]
  },
  {
   "cell_type": "code",
   "execution_count": 18,
   "id": "eb1db448",
   "metadata": {},
   "outputs": [],
   "source": [
    "import os\n",
    "import adal\n",
    "import requests\n",
    "from azure.identity import ClientSecretCredential\n",
    "from azure.storage.blob import BlobServiceClient\n",
    "import pandas as pd\n",
    "from pypdf import PdfReader, PdfWriter\n",
    "import io\n",
    "import time\n",
    "import openai\n",
    "from openai import OpenAI\n",
    "import json\n",
    "\n",
    "\n",
    "\n"
   ]
  },
  {
   "cell_type": "code",
   "execution_count": 2,
   "id": "50dae344",
   "metadata": {},
   "outputs": [],
   "source": [
    "from env import env_vars\n",
    "import env\n",
    "for k,v in env_vars.items():\n",
    "    os.environ[k] = v\n",
    "    \n",
    "    \n",
    "subscription_id = env_vars['subscription_id']\n",
    "resource_group  = env_vars['resource_group']\n",
    "storage  = env_vars['storage']\n",
    "\n",
    "\n",
    "#Service Principal with BlobSotrage Contributor role permissions\n",
    "service_principal_id  = env_vars['service_principal_id']\n",
    "service_principal_tenant_id  = env_vars['service_principal_tenant_id']\n",
    "service_principal_client_id  = env_vars['service_principal_client_id']\n",
    "service_principal_client_secret  = env_vars['service_principal_client_secret']\n",
    "\n",
    "blob_name = env_vars[\"blob_name\"]\n",
    "container_name = env_vars[\"container_name\"]\n",
    "\n",
    "\n",
    "\n",
    "openai.api_type = \"azure\"\n",
    "openai.api_version = \"2023-07-01-preview\"\n",
    "openai.api_base = env_vars[\"openai_api_base\"]\n",
    "openai.azure_endpoint = env_vars[\"openai_api_base\"]\n",
    "openai.api_key = env_vars[\"openai_api_key\"]\n",
    "\n"
   ]
  },
  {
   "cell_type": "markdown",
   "id": "035b8ede",
   "metadata": {},
   "source": [
    "## Create an App Registration and give it appropriate perm on the subscription"
   ]
  },
  {
   "cell_type": "code",
   "execution_count": 4,
   "id": "4ddebf39",
   "metadata": {},
   "outputs": [],
   "source": [
    "class RAG_Auth:\n",
    "    def __init__(self, service_principal_tenant_id, service_principal_client_id, service_principal_client_secret):\n",
    "        resource = 'https://management.azure.com/'\n",
    "        authority_url = f'https://login.microsoftonline.com/{service_principal_tenant_id}'\n",
    "        context = adal.AuthenticationContext(authority_url)\n",
    "        token = context.acquire_token_with_client_credentials(resource, service_principal_client_id, service_principal_client_secret)\n",
    "        self.access_token = token['accessToken']\n",
    "        self.credential = ClientSecretCredential(service_principal_tenant_id, service_principal_client_id, service_principal_client_secret)\n",
    "        \n",
    "    def get_access_token(self):\n",
    "        return self.access_token\n",
    "    \n",
    "    def get_credential(self):\n",
    "        return self.credential\n",
    "# Extract the access token\n",
    "\n"
   ]
  },
  {
   "cell_type": "code",
   "execution_count": 5,
   "id": "0a835903",
   "metadata": {},
   "outputs": [],
   "source": [
    "class RAG_Req:\n",
    "    def __init__(self, access_token):\n",
    "        self.headers = headers = {\n",
    "            'Authorization': 'Bearer ' + access_token,\n",
    "            'Content-Type': 'application/json'\n",
    "        }\n",
    "    def proc_response(self, response):\n",
    "        if response.status_code == 200:\n",
    "            response = response.json()\n",
    "\n",
    "            return response\n",
    "        else:\n",
    "            print(\"Request failed with status code:\", response.status_code)\n",
    "            print(\"Response content:\", response.text)\n",
    "        \n",
    "    def get_req(self, url):\n",
    "        response = requests.get(url, headers=headers)\n",
    "        return proc_response(response)\n",
    "    \n",
    "    def post_req(self, url, body=\"\"):\n",
    "        response = requests.post(url, headers=headers, body=body)\n",
    "        return proc_response(response)"
   ]
  },
  {
   "cell_type": "code",
   "execution_count": 6,
   "id": "632b884b",
   "metadata": {},
   "outputs": [],
   "source": [
    "from azure.identity import ClientSecretCredential\n",
    "from azure.storage.blob import BlobServiceClient, BlobClient\n",
    "\n",
    "\n",
    "class RAG_Blob:\n",
    "    def __init__(self, service_principal_tenant_id, service_principal_client_id, service_principal_client_secret, storage):\n",
    "        \n",
    "        rag_auth = RAG_Auth(service_principal_tenant_id, service_principal_client_id, service_principal_client_secret)\n",
    "\n",
    "        self.credential  = rag_auth.get_credential()\n",
    "        self.blob_service_client = BlobServiceClient(account_url=f\"https://{storage}.blob.core.windows.net\", credential=self.credential)\n",
    "        \n",
    "        access_token = rag_auth.get_access_token()\n",
    "        self.rag_req = RAG_Req(access_token)\n",
    "        \n",
    "    def create_container(self, container_name):\n",
    "        container_client = self.blob_service_client.get_container_client(container_name)\n",
    "        if not container_client.exists():\n",
    "            try:\n",
    "                container_client.create_container()\n",
    "                print(f\"Container '{container_name}' created successfully.\")\n",
    "            except Exception as e:\n",
    "                print(f\"An error occurred: {e}\")\n",
    "        else:\n",
    "            print(f\"Container '{container_name}' already exists.\")\n",
    "            \n",
    "    def upload_blob(self, container_name, blob_name):\n",
    "        container_client = self.blob_service_client.get_container_client(container_name)\n",
    "        blob_client = container_client.get_blob_client(blob_name)\n",
    "        try:\n",
    "            # Upload the file to the blob\n",
    "            with open(blob_name, \"rb\") as data:\n",
    "                blob_client.upload_blob(data, overwrite=True)\n",
    "\n",
    "            print(f\"Blob '{blob_name}' uploaded successfully.\")\n",
    "        except Exception as e:\n",
    "            print(f\"An error occurred: {e}\")\n",
    "            \n",
    "    def list_files(self, in_container_name):\n",
    "        container_client = self.blob_service_client.get_container_client(in_container_name)\n",
    "        blob_list = container_client.list_blobs()\n",
    "        # serialize blob_list\n",
    "        blob_list = json.dumps([blob.name for blob in blob_list])   \n",
    "        return blob_list\n",
    "        \n",
    "            \n",
    "    def get_blob_key(self, subscription_id, resource_group, form_recognizer):\n",
    "        url = f'https://management.azure.com/subscriptions/{subscription_id}/resourceGroups/{resource_group}/providers/Microsoft.CognitiveServices/accounts/{form_recognizer}/listKeys?api-version=2023-05-01'\n",
    "        response = self.rag_req.get_req(url)\n",
    "        return response[\"key1\"]\n",
    "        \n",
    "    def blob_name_from_file_page(self, filename, page=0):\n",
    "        if os.path.splitext(filename)[1].lower() == \".pdf\":\n",
    "            return os.path.splitext(os.path.basename(filename))[0] + f\"-{page}\" + \".pdf\"\n",
    "        else:\n",
    "            return os.path.basename(filename)\n",
    "        \n",
    "        \n",
    "    def upload_blob_data(self, container_name, blob_name, io_blob_data):\n",
    "        container_client = self.blob_service_client.get_container_client(container_name)\n",
    "        container_client.upload_blob(blob_name, io_blob_data, overwrite=True)\n",
    "        \n",
    "        \n",
    "    def blob_exists(self, container_name, blob_name):\n",
    "        blob_client = self.blob_service_client.get_blob_client(container_name, blob_name)\n",
    "        return blob_client.exists()\n",
    "\n",
    "    def create_upload_page_chunks(self, chunk_container_name, blob_name):\n",
    "        reader = PdfReader(blob_name)\n",
    "        pages = reader.pages\n",
    "        for i in range(len(pages)):\n",
    "            chunk_blob_name = self.blob_name_from_file_page(blob_name, i)\n",
    "            if not self.blob_exists(chunk_container_name, chunk_blob_name):\n",
    "                f = io.BytesIO()\n",
    "                writer = PdfWriter()\n",
    "                writer.add_page(PdfReader(blob_name).pages[i])\n",
    "                writer.write(f)\n",
    "                f.seek(0)\n",
    "                print(chunk_container_name, \":\", chunk_blob_name)\n",
    "                self.upload_blob_data(chunk_container_name, chunk_blob_name, f)\n",
    "        \n",
    "    def get_pdf_content(self, in_container_name, in_file_name):\n",
    "        container_client = self.blob_service_client.get_container_client(in_container_name)\n",
    "        blob_client = container_client.get_blob_client(in_file_name)\n",
    "        blob_data = blob_client.download_blob()\n",
    "        blob_data = blob_data.readall()\n",
    "\n",
    "        # read pdf file in_file_name\n",
    "        pdf_reader = PdfReader(io.BytesIO(blob_data))\n",
    "        num_pages = len(pdf_reader.pages)\n",
    "        page_text = []\n",
    "        for i in range(num_pages):\n",
    "            page = pdf_reader.pages[i]\n",
    "            page_text.append(page.extract_text())\n",
    "\n",
    "        return \"\\n\".join(page_text)\n",
    "    "
   ]
  },
  {
   "cell_type": "code",
   "execution_count": 7,
   "id": "a6229eb1",
   "metadata": {},
   "outputs": [],
   "source": [
    "def get_merged_summary(user_content):\n",
    "    system_content = \"\"\"You are a GPT designed to summarize large documents efficiently. \n",
    "You will receive two types of inputs: 1. A summary of earlier sections of the document, \n",
    "and 2. The content of the current section of the document. \n",
    "Your primary task is to create a revised summary by effectively combining the summary of earlier sections with the content of the current section. \n",
    "The output you provide, which is the revised summary, should be concise and focused solely on the content provided, without any additional comments or remarks. \n",
    "This output will then be used as the 'Summary of earlier sections' for the subsequent sections of the document.\"\"\"\n",
    "    try:\n",
    "        message_text = [{\"role\":\"system\",\n",
    "                         \"content\":system_content},\n",
    "                        {\"role\":\"user\",\"content\":user_content}]\n",
    "\n",
    "\n",
    "        completion = openai.chat.completions.create(\n",
    "          model=\"gpt432k\",\n",
    "          messages = message_text,\n",
    "          temperature=0.6,\n",
    "          max_tokens=1000,\n",
    "          top_p=0.95,\n",
    "          frequency_penalty=0.5,\n",
    "          presence_penalty=0.5,\n",
    "          stop=None\n",
    "        )\n",
    "        return(completion.choices[0].message.content)\n",
    "    except Exception as e:\n",
    "        print(e)\n",
    "        #display(HTML(html_content))\n",
    "        return({})\n",
    "    \n",
    "def get_doc_summary(user_content):\n",
    "    system_content = \"\"\"You are an assistant designed to summarize large documents efficiently. \n",
    "The output you provide, should be concise and focused solely on the content provided, without any additional comments or remarks. \n",
    "\"\"\"\n",
    "    try:\n",
    "        message_text = [{\"role\":\"system\",\n",
    "                         \"content\":system_content},\n",
    "                        {\"role\":\"user\",\n",
    "                         \"content\":f\"Document Content: {user_content} \\nSummary:\"}]\n",
    "\n",
    "\n",
    "        completion = openai.chat.completions.create(\n",
    "          model=\"gpt432k\",\n",
    "          messages = message_text,\n",
    "          temperature=0.6,\n",
    "          max_tokens=1000,\n",
    "          top_p=0.95,\n",
    "          frequency_penalty=0.5,\n",
    "          presence_penalty=0.5,\n",
    "          stop=None\n",
    "        )\n",
    "        return(completion.choices[0].message.content)\n",
    "    except Exception as e:\n",
    "        print(e)\n",
    "        #display(HTML(html_content))\n",
    "        return({})"
   ]
  },
  {
   "cell_type": "code",
   "execution_count": 8,
   "id": "4e4aa78a",
   "metadata": {},
   "outputs": [],
   "source": [
    "def revise_file_name(fname):\n",
    "    file = fname.split(\"-\")[0]\n",
    "    no = fname.split(\"-\")[1].split(\".\")[0]\n",
    "    \n",
    "    suffix = fname.split(\"-\")[1].split(\".\")[1]\n",
    "    revised_fname = \"file\" + \"_\" + str(no).zfill(3) + \"_\" + file + \".\" + suffix\n",
    "    return revised_fname\n",
    "\n",
    "def get_sorted_file_list(file_list):\n",
    "    revised_file_list = [revise_file_name(file) for file in eval(file_list)]\n",
    "    df = pd.DataFrame({\"fname\": eval(file_list), \"revised_fname\": revised_file_list})\n",
    "    df.sort_values(\"revised_fname\", inplace=True)  \n",
    "    revised_file_list = df[\"revised_fname\"].values\n",
    "    file_list = df[\"fname\"].values\n",
    "    return file_list"
   ]
  },
  {
   "cell_type": "markdown",
   "id": "d9cc7c8d",
   "metadata": {},
   "source": [
    "## Create below resources:\n",
    "1. Cognitive Search Resource\n",
    "2. Storage Account Resource\n",
    "3. Form recognizer resource\n",
    "4. Cognitive services resource"
   ]
  },
  {
   "cell_type": "code",
   "execution_count": 9,
   "id": "51e79cb8",
   "metadata": {},
   "outputs": [
    {
     "name": "stderr",
     "output_type": "stream",
     "text": [
      "WARNING: A web browser has been opened at https://login.microsoftonline.com/organizations/oauth2/v2.0/authorize. Please continue the login in the web browser. If no web browser is available or if the web browser fails to open, use device code flow with `az login --use-device-code`.\n",
      "WARNING: Failed to authenticate f96af847-47da-4205-9a55-58cad5f3c16a 'MTC Bangalore' due to error 'AADSTS500571: The guest user account is disabled. Trace ID: de1c71b3-8145-45cc-b6a7-091f9e892200 Correlation ID: c28de258-7f89-4399-bb17-b528a96b597c Timestamp: 2023-12-12 13:16:34Z'\n",
      "WARNING: The following tenants don't contain accessible subscriptions. Use 'az login --allow-no-subscriptions' to have tenant level access.\n",
      "WARNING: 32dc2feb-7716-4cf8-b1a6-f02cf37fd6bf 'One MTC - Prod'\n",
      "WARNING: 7684c3d2-bc2f-469a-b8ae-46e2a4f2c26c 'ManuSQLGeek'\n"
     ]
    }
   ],
   "source": [
    "!az login > x"
   ]
  },
  {
   "cell_type": "code",
   "execution_count": 28,
   "id": "a4c0add0",
   "metadata": {},
   "outputs": [],
   "source": [
    "!az account set --subscription \"MCAPS-Hybrid-REQ-66361-2023-shagrawal\" >> x"
   ]
  },
  {
   "cell_type": "code",
   "execution_count": 29,
   "id": "7f5d566e",
   "metadata": {},
   "outputs": [],
   "source": [
    "!az account show >> x"
   ]
  },
  {
   "cell_type": "code",
   "execution_count": 30,
   "id": "94340112",
   "metadata": {},
   "outputs": [],
   "source": [
    "!az group create --name %resource_group% --location %location% >> x"
   ]
  },
  {
   "cell_type": "markdown",
   "id": "6358bfcb",
   "metadata": {},
   "source": [
    "## Give Service Principal Blob Data Contributor role\n",
    "This took some time to take effect\n",
    "https://learn.microsoft.com/en-us/azure/role-based-access-control/built-in-roles\n"
   ]
  },
  {
   "cell_type": "markdown",
   "id": "5b310f4c",
   "metadata": {},
   "source": [
    "## Upload documents to Storage Account Resource"
   ]
  },
  {
   "cell_type": "code",
   "execution_count": 13,
   "id": "02b23b8a",
   "metadata": {},
   "outputs": [],
   "source": [
    "storage_blob_url = f\"https://{storage}.blob.core.windows.net/\""
   ]
  },
  {
   "cell_type": "code",
   "execution_count": 14,
   "id": "f2e655a8",
   "metadata": {},
   "outputs": [
    {
     "data": {
      "text/plain": [
       "'informationmemorandumjfsl.pdf'"
      ]
     },
     "execution_count": 14,
     "metadata": {},
     "output_type": "execute_result"
    }
   ],
   "source": [
    "blob_name"
   ]
  },
  {
   "cell_type": "code",
   "execution_count": 15,
   "id": "c8e8ea7e",
   "metadata": {},
   "outputs": [
    {
     "name": "stdout",
     "output_type": "stream",
     "text": [
      "Container 'rildata' already exists.\n",
      "Blob 'informationmemorandumjfsl.pdf' uploaded successfully.\n"
     ]
    }
   ],
   "source": [
    "rag_blob = RAG_Blob(service_principal_tenant_id, service_principal_client_id, service_principal_client_secret, storage)\n",
    "rag_blob.create_container(container_name)\n",
    "rag_blob.upload_blob(container_name, blob_name)"
   ]
  },
  {
   "cell_type": "markdown",
   "id": "6ad5c2c5",
   "metadata": {},
   "source": [
    "## Create a pipeline to Chunk documents\n",
    "https://github.com/Azure-Samples/azure-search-power-skills/blob/main/Vector/EmbeddingGenerator/chunker/text_chunker.py"
   ]
  },
  {
   "cell_type": "code",
   "execution_count": 16,
   "id": "e9fe2560",
   "metadata": {},
   "outputs": [
    {
     "name": "stdout",
     "output_type": "stream",
     "text": [
      "Container 'rildatapagechunks' already exists.\n"
     ]
    }
   ],
   "source": [
    "chunk_container_name = container_name + \"pagechunks\"\n",
    "rag_blob.create_container(chunk_container_name)\n",
    "rag_blob.create_upload_page_chunks(chunk_container_name, blob_name)"
   ]
  },
  {
   "cell_type": "markdown",
   "id": "14a768b7",
   "metadata": {},
   "source": []
  },
  {
   "cell_type": "code",
   "execution_count": 36,
   "id": "bf4a35b2",
   "metadata": {},
   "outputs": [],
   "source": [
    "\n",
    "file_list = rag_blob.list_files(chunk_container_name)\n",
    "file_list = get_sorted_file_list(file_list)"
   ]
  },
  {
   "cell_type": "code",
   "execution_count": 37,
   "id": "86fabaf3",
   "metadata": {},
   "outputs": [],
   "source": [
    "if 1==2:\n",
    "    file_list = file_list[0:20]"
   ]
  },
  {
   "cell_type": "code",
   "execution_count": 25,
   "id": "7b7e6a48",
   "metadata": {},
   "outputs": [
    {
     "name": "stdout",
     "output_type": "stream",
     "text": [
      "informationmemorandumjfsl-0.pdf\n",
      "Jio Financial Services Limited, originally incorporated as Reliance Strategic Investments Private Limited in 1999, later converted to a public limited company in 2002. It was renamed as Jio Financial Services Limited following a Scheme of Arrangement in 2023. The company is headquartered in Mumbai and its promoter is Mukesh D. Ambani. It aims to list 635,32,84,188 equity shares with a face value of ₹10 each, allotted by the company pursuant to the Scheme of Arrangement. The shares are expected to be listed on both BSE and NSE stock exchanges. The Information Memorandum for this listing contains all material information about the company and its investment risks. Kfin Technologies Limited is the registrar and share transfer agent for the company's shares.\n",
      "\n",
      "informationmemorandumjfsl-1.pdf\n",
      "Jio Financial Services Limited, formerly Reliance Strategic Investments Private Limited, was incorporated in 1999 and converted to a public limited company in 2002. Following a Scheme of Arrangement in 2023, it was renamed Jio Financial Services Limited. Headquartered in Mumbai with Mukesh D. Ambani as its promoter, the company plans to list 635,32,84,188 equity shares with a face value of ₹10 each on both BSE and NSE stock exchanges. The Information Memorandum detailing this listing includes comprehensive information about the company such as definitions and abbreviations, financial information and market data presentation conventions, risk factors, an introduction to the company including its capital structure and tax benefits statement; details about its business operations including industry overview, key regulations and policies; historical corporate matters; details of subsidiaries joint venture and associates; management profiles; details about promoter and promoter group; group companies' details; related party transactions; dividend policy. It also presents detailed financial statements, capitalization statement and other financial information with management's discussion and analysis of financial condition and results of operations. Legal information covering outstanding litigation and defaults along with government approvals is included. The final sections cover regulatory disclosures along with other relevant information like main provisions of the articles of association, material contracts for inspection and a declaration.\n",
      "\n",
      "informationmemorandumjfsl-2.pdf\n",
      "Jio Financial Services Limited, previously known as Reliance Strategic Investments Private Limited, was established in 1999 and became a public limited company in 2002. It was renamed following a Scheme of Arrangement in 2023. Mukesh D. Ambani is its promoter and the company plans to list over 635 billion equity shares on BSE and NSE stock exchanges. The Information Memorandum details about the firm's financial information, market data presentation conventions, risk factors, business operations, historical corporate matters, management profiles, group companies' details, legal information including outstanding litigation and defaults along with government approvals. The current section provides definitions and abbreviations used in the Information Memorandum such as \"JFSL\" or “the Company” referring to Jio Financial Services Limited; \"We\" or “us” or “our” or “our Company” referring to the Company together with their Subsidiaries , Joint Venture and associates; \"RIL\" or “Demerged Company” referring to Reliance Industries Limited; AoA/ Articles of Association/ Articles referring to the articles of association of the Company; Audit Committee refers to audit committee constituted according to regulation 18 of SEBI Listing Regulations; Auditor/ Statutory Auditors refer to statutory auditors of the company for different fiscal years; Board/ Board of Directors refer to board of directors of the Company among others.\n",
      "informationmemorandumjfsl-3.pdf\n",
      "Jio Financial Services Limited, previously Reliance Strategic Investments Private Limited, was established in 1999 and became a public limited company in 2002. It was renamed following a Scheme of Arrangement in 2023 with Mukesh D. Ambani as its promoter. The company plans to list over 635 billion equity shares on BSE and NSE stock exchanges. The Information Memorandum provides details about the firm's financial information, market data presentation conventions, risk factors, business operations, historical corporate matters, management profiles, group companies' details, legal information including outstanding litigation and defaults along with government approvals. Definitions and abbreviations used in the memorandum include references for Jio Financial Services Limited (JFSL), the Company’s Subsidiaries , Joint Venture and associates; Reliance Industries Limited (RIL); articles of association; audit committee; statutory auditors; board of directors among others.\n",
      "\n",
      "The current section introduces more terms such as the Corporate Social Responsibility Committee constituted according to Section 135 of the Companies Act, COVID-19 defined as a global health emergency declared by WHO in 2020, CRISIL Market Intelligence and Analytics (MI&A), a division of CRISIL Limited along with their report on NBFCs and Payment Banks dated July 25, 2023. Additionally, it describes \"Demerged Undertaking\" as the undertaking of RIL pertaining to the Financial Services Business which includes all properties related to this business present or future; investments in subsidiaries and joint ventures engaged in financial services business including investments in Reliance Industrial Investments; liabilities; contracts; refunds; permits; intellectual property rights among other things associated with this business operation.\n",
      "\n",
      "informationmemorandumjfsl-4.pdf\n",
      "Jio Financial Services Limited, formerly Reliance Strategic Investments Private Limited, was established in 1999, became a public limited company in 2002, and was renamed following an arrangement in 2023. The company plans to list over 635 billion equity shares on BSE and NSE stock exchanges. The Information Memorandum provides information about the firm's finances, market data presentation conventions, risk factors, business operations, historical corporate matters, management profiles, group companies' details, legal information including outstanding litigation and defaults along with government approvals. The memorandum has defined terms like JFSL's subsidiaries , joint ventures; RIL; articles of association; audit committee; statutory auditors; board of directors among others. \n",
      "\n",
      "More terms introduced include the Corporate Social Responsibility Committee constituted according to Section 135 of the Companies Act, COVID-19 defined as a global health emergency by WHO in 2020, CRISIL Market Intelligence and Analytics (MI&A), their report on NBFCs and Payment Banks dated July 25, 2023. It also describes \"Demerged Undertaking\" as the undertaking of RIL pertaining to the Financial Services Business which includes all properties related to this business present or future.\n",
      "\n",
      "The current section introduces additional definitions such as Depository registered with SEBI under Securities and Exchange Board regulations (1996), Designated Stock Exchange as BSE Limited, Director(s) on their Board and Effective Date as July 1st ,2023. It also defines Equity Shares/Resulting Company New Equity Shares as fully paid-up equity shares with face value ₹10 each allotted by the company according to clause 8.1 of the Scheme. Other terminologies introduced include Financial Year/Fiscal Year/FY as period of twelve months ending March 31st that year; Fugitive Economic Offender under Section 12 of Fugitive Economic Offenders Act (2018); GDR Depository being Bank of New York Mellon; Group Company(ies) including companies with which JFSL had related party transactions during disclosed financial information period covered under applicable accounting standards; Income Tax Act/IT Act referring to Income-tax Act (1961) and its amendments thereon; Independent Directors complying with Section 2(47) & Section149(6) of Companies Act (2013) & Regulation16(1)(b) of SEBI Listing Regulations etc.\n",
      "\n",
      "informationmemorandumjfsl-5.pdf\n",
      "Jio Financial Services Limited, established in 1999, became a public limited company in 2002 and was renamed after an arrangement in 2023. The firm plans to list over 635 billion equity shares on BSE and NSE stock exchanges. The Information Memorandum provides comprehensive details about the company including its finances, market data presentation conventions, risk factors, business operations, management profiles, group companies' details, legal information and more. It defines terms like JFSL's subsidiaries , joint ventures; RIL; articles of association; audit committee; statutory auditors etc.\n",
      "\n",
      "Further definitions include Depository registered with SEBI under Securities regulations (1996), Designated Stock Exchange as BSE Limited, Director(s) on their Board and Effective Date as July 1st ,2023. Equity Shares are fully paid-up equity shares with face value ₹10 each allotted by the company according to clause 8.1 of the Scheme. Other terminologies such as Financial Year/Fiscal Year/FY; Fugitive Economic Offender under Section 12 of Fugitive Economic Offenders Act (2018); GDR Depository being Bank of New York Mellon; Group Company(ies); Income Tax Act/IT Act referring to Income-tax Act (1961) were also introduced.\n",
      "\n",
      "The current section introduces additional terms like “NBFC -ND-SI” or “Systemically Important NBFCs”, a non-banking financial company registered with RBI. \"NCLT\" or \"Tribunal\" refers to The National Company Law Tribunal, Mumbai Bench. Net Worth is defined as per Regulation 2(1)(hh ) of the SEBI ICDR Regulations. Shri Mukesh D. Ambani is identified as the promoter of the Company. Record Date is July 20, 2023 for determining shareholders of RIL for issue of new equity shares. Other terms include Registered Office location, Registrar and Share Transfer Agent being Kfin Technologies Limited, Reliance GDRs definition and Risk Management Committee among others.\n",
      "\n",
      "informationmemorandumjfsl-6.pdf\n"
     ]
    },
    {
     "name": "stdout",
     "output_type": "stream",
     "text": [
      "Jio Financial Services Limited, established in 1999 and renamed in 2023, plans to list over 635 billion equity shares on BSE and NSE stock exchanges. Key definitions include JFSL's subsidiaries, joint ventures; RIL; audit committee; statutory auditors; Depository registered with SEBI under Securities regulations (1996), Equity Shares as fully paid-up equity shares allotted by the company, \"NBFC -ND-SI” or “Systemically Important NBFCs”, a non-banking financial company registered with RBI, \"NCLT\" or \"Tribunal\" referring to The National Company Law Tribunal, Mumbai Bench.\n",
      "\n",
      "Additional terminologies include Net Worth as per Regulation 2(1)(hh ) of the SEBI ICDR Regulations, promoter of the Company being Shri Mukesh D. Ambani, Record Date as July 20, 2023 for determining shareholders of RIL for issue of new equity shares. The Registered Office location and Registrar and Share Transfer Agent is identified as Kfin Technologies Limited. Definitions also cover Reliance GDRs and Risk Management Committee among others.\n",
      "\n",
      "The current section introduces further terms including Reliance Industrial Investments and Holdings Limited; Reliance Retail Finance Limited; Reliance Payment Solutions Limited; Jio Information Aggregator Services Limited; and Jio Infrastructure Management Services Limited. A wilful defaulter or a fraudulent borrower is defined as per regulation 2(1)(lll) of the SEBI ICDR Regulations.\n",
      "\n",
      "Conventional terms like Indian Rupees (₹/ Rs./ INR/ Re), AI for Artificial Intelligence, Business Correspondent (BC), BSE for BSE Limited , CAGR for Compounded Annual Growth Rate , CEO for Chief Executive Officer , CSR for Corporate Social Responsibility , Demat for Dematerialized form are introduced. Other abbreviations include DIN for Director Identification Number, EPS for Earnings per share, GDP for Gross Domestic Product , GST for Goods and Services Tax , ICAI for Institute of Chartered Accountants of India among others.\n",
      "\n",
      "informationmemorandumjfsl-7.pdf\n",
      "Jio Financial Services Limited, established in 1999 and renamed in 2023, plans to list over 635 billion equity shares on BSE and NSE stock exchanges. The company has defined key terms and abbreviations related to its operations, subsidiaries, joint ventures, statutory auditors, depository registered with SEBI under Securities regulations (1996), and NBFC -ND-SI” or “Systemically Important NBFCs”, among others.\n",
      "\n",
      "The current section introduces further terms including Reliance Industrial Investments and Holdings Limited; Reliance Retail Finance Limited; Reliance Payment Solutions Limited; Jio Information Aggregator Services Limited; Jio Infrastructure Management Services Limited. Conventional terms like Indian Rupees (₹/ Rs./ INR/ Re), AI for Artificial Intelligence, Business Correspondent (BC), BSE for BSE Limited , CAGR for Compounded Annual Growth Rate , CEO for Chief Executive Officer are introduced. \n",
      "\n",
      "In the financial data section of the document, it is clarified that all references to India are to the Republic of India and references to the Government are to the Government of India. The company's financial year is a twelve-month period from April 1st to March 31st of the succeeding calendar year. All financial data in this document is derived from standalone financial statements and consolidated financial information prepared in accordance with Ind AS and the Companies Act, 2013.\n",
      "\n",
      "Industry and market data used in this document have been obtained or derived from a report titled “Industry Report on NBFCs and Payment Banks” dated July 25, 2023 by CRISIL MI&A. This report will be available on the company's website at www.jfs.in.\n",
      "informationmemorandumjfsl-8.pdf\n",
      "Jio Financial Services Limited, established in 1999 and renamed in 2023, plans to list over 635 billion equity shares on BSE and NSE. The company has introduced several terms related to its operations and financial data. All references to India are to the Republic of India and the Government refers to the Government of India. The company's financial year runs from April 1st to March 31st. Industry and market data have been sourced from a report by CRISIL MI&A titled “Industry Report on NBFCs and Payment Banks”. \n",
      "\n",
      "The views expressed in this report are that of CRISIL MI&A, an independent agency with no relationship with Jio Financial Services or its executives. There are risks associated with the reliability of third-party data used in this document as it is based on estimates and assumptions which may prove incorrect. The meaningfulness of market data depends on reader’s understanding of methodologies used for compiling such data.\n",
      "\n",
      "Currency references include “INR”, “₹”, “Indian Rupees” for India's legal currency; \"US$\", \"USD\", \"$\" for the United States' legal currency. All numerical information is presented in crore unless stated otherwise, one crore representing 10 million or 1,00,00,000. Figures sourced from third-party industry sources might be expressed in denominations other than crore or lakhs.\n",
      "\n",
      "informationmemorandumjfsl-9.pdf\n",
      "Jio Financial Services Limited, established in 1999 and renamed in 2023, plans to list over 635 billion equity shares on BSE and NSE. The company's financial year runs from April 1st to March 31st with industry data sourced from a report by CRISIL MI&A. Currency references include INR for India's currency and USD for the United States'. \n",
      "\n",
      "This Information Memorandum contains forward-looking statements that predict the company's expected financial conditions, results of operations, business plans and prospects. These predictions may involve risks and uncertainties due to regulatory changes, technological changes, market risks, economic conditions in India, inflation, deflation, interest rates volatility, foreign exchange rates fluctuation and domestic law changes among others.\n",
      "\n",
      "Important factors that could affect actual results include the company’s reliance on subsidiaries' business activities; its ability to manage diversified operations; fluctuations in interest rates affecting income and net interest margin; substantial debt requirements; potential credit rating downgrades; compliance with future borrowing arrangements; control of Non-Performing Assets (NPAs); customer prepayment effects on operations; and compliance with RBI, IRDAI and SEBI regulations. Any non-compliance or adverse effect could impact Jio Financial Services' reputation, business performance and financial condition.\n"
     ]
    }
   ],
   "source": [
    "summary = \"\"\n",
    "\n",
    "for file in file_list:\n",
    "    print(file)\n",
    "    file_content = rag_blob.get_pdf_content(in_container_name=chunk_container_name, in_file_name=file)\n",
    "        \n",
    "    summary = get_merged_summary(f\"Summary of earlier sections:{summary} \\nContent of current section:{file_content} \\nRevised Summary:\")\n",
    "    time.sleep(10)\n",
    "    print(summary)"
   ]
  },
  {
   "cell_type": "code",
   "execution_count": 40,
   "id": "cc068bd4",
   "metadata": {},
   "outputs": [
    {
     "name": "stdout",
     "output_type": "stream",
     "text": [
      "informationmemorandumjfsl-0.pdf\n",
      "informationmemorandumjfsl-1.pdf\n",
      "informationmemorandumjfsl-2.pdf\n",
      "informationmemorandumjfsl-3.pdf\n",
      "informationmemorandumjfsl-4.pdf\n",
      "informationmemorandumjfsl-5.pdf\n",
      "informationmemorandumjfsl-6.pdf\n",
      "informationmemorandumjfsl-7.pdf\n",
      "informationmemorandumjfsl-8.pdf\n",
      "informationmemorandumjfsl-9.pdf\n",
      "informationmemorandumjfsl-10.pdf\n",
      "informationmemorandumjfsl-11.pdf\n",
      "informationmemorandumjfsl-12.pdf\n",
      "informationmemorandumjfsl-13.pdf\n",
      "informationmemorandumjfsl-14.pdf\n",
      "informationmemorandumjfsl-15.pdf\n",
      "informationmemorandumjfsl-16.pdf\n",
      "informationmemorandumjfsl-17.pdf\n",
      "informationmemorandumjfsl-18.pdf\n",
      "informationmemorandumjfsl-19.pdf\n"
     ]
    }
   ],
   "source": [
    "arr_summary = []\n",
    "summary = \"\"\n",
    "tot_file_content = \"\"\n",
    "import time\n",
    "ctr = 0\n",
    "for file in file_list:\n",
    "    print(file)\n",
    "    file_content = rag_blob.get_pdf_content(in_container_name=chunk_container_name, in_file_name=file)\n",
    "    tot_file_content = tot_file_content + file_content\n",
    "    ctr = ctr + 1\n",
    "    if ctr == 10:\n",
    "        summary = get_doc_summary(tot_file_content)\n",
    "        arr_summary.append(summary)\n",
    "        ctr = 0\n",
    "        tot_file_content = \"\"\n",
    "    \n",
    "    #time.sleep(10)\n",
    "    "
   ]
  },
  {
   "cell_type": "code",
   "execution_count": 41,
   "id": "0607eb9e",
   "metadata": {},
   "outputs": [
    {
     "name": "stdout",
     "output_type": "stream",
     "text": [
      "785\n",
      "1499\n"
     ]
    }
   ],
   "source": [
    "content1 = \"\\n\".join(arr_summary[0:1])\n",
    "content2 = \"\\n\".join(arr_summary[1:])\n",
    "print(len(content1))\n",
    "print(len(content2))\n",
    "summary1 = get_doc_summary(content1)\n",
    "summary2 = get_doc_summary(content2)\n",
    "summary = get_doc_summary(content1 + \"\\n\" + content2)"
   ]
  },
  {
   "cell_type": "code",
   "execution_count": 42,
   "id": "d7a47ed0",
   "metadata": {},
   "outputs": [
    {
     "name": "stdout",
     "output_type": "stream",
     "text": [
      "Jio Financial Services Limited, formerly Reliance Strategic Investments Limited, is planning to list 635,32,84,188 equity shares on the BSE Limited and National Stock Exchange of India Limited. The company operates as a non-banking financial institution registered with the Reserve Bank of India and serves individuals and SMEs. It warns potential investors about risks associated with investing in its shares including economic downturns affecting its customer base, interest rate volatility, disruption in debt funding sources, and non-compliance with future borrowing agreements. It also mentions reliance on dividends from subsidiaries for revenue. The document includes information about shareholding structure, business summary, industry overview, financial details including outstanding litigation and contingent liabilities, risk factors related to the business and related party transactions.\n",
      "\n"
     ]
    }
   ],
   "source": [
    "print(summary)"
   ]
  },
  {
   "cell_type": "code",
   "execution_count": null,
   "id": "b4441814",
   "metadata": {},
   "outputs": [],
   "source": []
  },
  {
   "cell_type": "code",
   "execution_count": null,
   "id": "3ee96dda",
   "metadata": {},
   "outputs": [],
   "source": []
  }
 ],
 "metadata": {
  "kernelspec": {
   "display_name": "Python 3 (ipykernel)",
   "language": "python",
   "name": "python3"
  },
  "language_info": {
   "codemirror_mode": {
    "name": "ipython",
    "version": 3
   },
   "file_extension": ".py",
   "mimetype": "text/x-python",
   "name": "python",
   "nbconvert_exporter": "python",
   "pygments_lexer": "ipython3",
   "version": "3.9.16"
  }
 },
 "nbformat": 4,
 "nbformat_minor": 5
}
